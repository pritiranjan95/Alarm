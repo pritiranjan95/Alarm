{
 "cells": [
  {
   "cell_type": "code",
   "execution_count": 32,
   "id": "3373515d",
   "metadata": {},
   "outputs": [],
   "source": [
    "from datetime import datetime\n",
    "import time\n",
    "def alram(b):\n",
    "    print(\"time: \",b)\n",
    "#     print(a)\n",
    "    f = True\n",
    "    while f:\n",
    "        currenttime=datetime.now()\n",
    "        a=currenttime.strftime(\"%H:%M\")\n",
    "#         print(a)\n",
    "        if a==str(b):\n",
    "            print(\"alram blow\")\n",
    "            time.sleep(5)\n",
    "            f = False\n",
    "#jhj"
   ]
  },
  {
   "cell_type": "code",
   "execution_count": 33,
   "id": "8d808d2d",
   "metadata": {},
   "outputs": [
    {
     "name": "stdout",
     "output_type": "stream",
     "text": [
      "give your time in HH:MM:  17:53\n",
      "enter 0 to set more or 1 to exit: 0\n",
      "give your time in HH:MM:  17:54\n",
      "enter 0 to set more or 1 to exit: 2\n",
      "time:  17:53\n",
      "alram blow\n",
      "time:  17:54\n"
     ]
    },
    {
     "name": "stderr",
     "output_type": "stream",
     "text": [
      "Exception in thread Thread-30 (alram):\n",
      "Traceback (most recent call last):\n",
      "  File \"C:\\Program Files\\Python\\lib\\threading.py\", line 1009, in _bootstrap_inner\n",
      "    self.run()\n",
      "  File \"C:\\Program Files\\Python\\lib\\threading.py\", line 946, in run\n",
      "    self._target(*self._args, **self._kwargs)\n",
      "  File \"C:\\Users\\Honeysys5\\AppData\\Local\\Temp\\ipykernel_14944\\1580107354.py\", line 13, in alram\n",
      "AttributeError: 'list' object has no attribute 'sleep'\n"
     ]
    },
    {
     "name": "stdout",
     "output_type": "stream",
     "text": [
      "alram blow\n"
     ]
    },
    {
     "name": "stderr",
     "output_type": "stream",
     "text": [
      "Exception in thread Thread-31 (alram):\n",
      "Traceback (most recent call last):\n",
      "  File \"C:\\Program Files\\Python\\lib\\threading.py\", line 1009, in _bootstrap_inner\n",
      "    self.run()\n",
      "  File \"C:\\Program Files\\Python\\lib\\threading.py\", line 946, in run\n",
      "    self._target(*self._args, **self._kwargs)\n",
      "  File \"C:\\Users\\Honeysys5\\AppData\\Local\\Temp\\ipykernel_14944\\1580107354.py\", line 13, in alram\n",
      "AttributeError: 'list' object has no attribute 'sleep'\n"
     ]
    }
   ],
   "source": [
    "from threading import Thread\n",
    "def set_alarm():\n",
    "    time=[]\n",
    "     \n",
    "    while True:\n",
    "        t=input(\"give your time in HH:MM:  \")\n",
    "        time.append(t)\n",
    "        a=int(input(\"enter 0 to set more or 1 to exit: \"))\n",
    "        \n",
    "        if a:\n",
    "            break\n",
    "    return time\n",
    "\n",
    "time = set_alarm()\n",
    "\n",
    "for i , al in enumerate(time):\n",
    "#     alram(al)\n",
    "    t = Thread(target=alram,args=(al,))\n",
    "    t.start()\n",
    "\n",
    "    "
   ]
  },
  {
   "cell_type": "code",
   "execution_count": null,
   "id": "bd6f66ce",
   "metadata": {},
   "outputs": [],
   "source": [
    "#Threading run your program in the background, with threading we don't have to wait for the execution of the current code for the next one. we can directly jump into the next code by running the current code in the bakground using threading."
   ]
  },
  {
   "cell_type": "code",
   "execution_count": 31,
   "id": "e79633a8",
   "metadata": {},
   "outputs": [
    {
     "name": "stdout",
     "output_type": "stream",
     "text": [
      "GeeksforGeeks"
     ]
    }
   ],
   "source": [
    "import time\n",
    " \n",
    "# initializing string\n",
    "strn = \"GeeksforGeeks\"\n",
    " \n",
    "# printing geeksforgeeks after delay\n",
    "# of each character\n",
    "for i in range(0, len(strn)):\n",
    "    print(strn[i], end=\"\")\n",
    "    time.sleep(2)"
   ]
  },
  {
   "cell_type": "code",
   "execution_count": 1,
   "id": "db91d51e",
   "metadata": {},
   "outputs": [
    {
     "name": "stdout",
     "output_type": "stream",
     "text": [
      "hii\n",
      "hii\n"
     ]
    }
   ],
   "source": [
    "import time\n",
    "a=2\n",
    "while a<4:\n",
    "    print(\"hii\")\n",
    "    time.sleep(6)\n",
    "    a=a+1"
   ]
  },
  {
   "cell_type": "code",
   "execution_count": null,
   "id": "03d3b57f",
   "metadata": {},
   "outputs": [],
   "source": []
  },
  {
   "cell_type": "code",
   "execution_count": null,
   "id": "cdc32f63",
   "metadata": {},
   "outputs": [],
   "source": []
  }
 ],
 "metadata": {
  "kernelspec": {
   "display_name": "Python 3 (ipykernel)",
   "language": "python",
   "name": "python3"
  },
  "language_info": {
   "codemirror_mode": {
    "name": "ipython",
    "version": 3
   },
   "file_extension": ".py",
   "mimetype": "text/x-python",
   "name": "python",
   "nbconvert_exporter": "python",
   "pygments_lexer": "ipython3",
   "version": "3.10.1"
  }
 },
 "nbformat": 4,
 "nbformat_minor": 5
}
