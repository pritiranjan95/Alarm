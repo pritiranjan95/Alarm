{
 "cells": [
  {
   "cell_type": "code",
   "execution_count": 4,
   "id": "d875c6e6",
   "metadata": {},
   "outputs": [],
   "source": [
    "#For Snooze or keep the alram buzzing for 5 seconds.\n",
    "\n",
    "from datetime import datetime, timedelta    #timedelta helps to add days hr minutes to the current time. \n",
    "import time\n",
    "def alram(b):\n",
    "    print(\"time: \",b)\n",
    "#     print(a)\n",
    "    f = True\n",
    "    while f:\n",
    "        currenttime=datetime.now()\n",
    "        a=currenttime.strftime(\"%H:%M\")\n",
    "#         print(a)\n",
    "        if a==str(b):\n",
    "            print(\"alram blow\")\n",
    "            \n",
    "            try:\n",
    "                sn=input(\"Enter 1 to snooze or 0 to stop:\")\n",
    "                if sn==\"1\":\n",
    "                    newtime=currenttime+timedelta(minutes=3)  #here it will add 3 minutes to the current time\n",
    "                    snoozetime=newtime.strftime(\"%H:%M\")  #Here we extract the time string from the newtime that is after 3 minutes\n",
    "                    ti.append(snoozetime)  #Added to the list of times given by the user.\n",
    "                    f=False\n",
    "\n",
    "                elif sn==\"0\":  #If user stop it, we will directly close it\n",
    "                    f=False\n",
    "\n",
    "                else:\n",
    "                    time.sleep(5) #If the user is not doing anything, for 5 second the alram will blow continuously \n",
    "                    print(\"this is working\")\n",
    "                    f = False\n",
    "            except:\n",
    "                f=False\n",
    "            \n",
    "            \n",
    "            "
   ]
  },
  {
   "cell_type": "code",
   "execution_count": 5,
   "id": "18a0c98b",
   "metadata": {},
   "outputs": [
    {
     "name": "stdout",
     "output_type": "stream",
     "text": [
      "give your time in HH:MM:  14:45\n",
      "enter 0 to set more or 1 to exit: 3\n",
      "time:  14:45\n",
      "alram blow\n",
      "Enter 1 to snooze or 0 to stop:"
     ]
    }
   ],
   "source": [
    "from threading import Thread\n",
    "def set_alarm():\n",
    "    ti=[]\n",
    "     \n",
    "    while True:\n",
    "        t=input(\"give your time in HH:MM:  \")\n",
    "        ti.append(t)\n",
    "        a=int(input(\"enter 0 to set more or 1 to exit: \"))\n",
    "        \n",
    "        if a:\n",
    "            break\n",
    "    return ti\n",
    "\n",
    "ti = set_alarm()\n",
    "\n",
    "for i , al in enumerate(ti):\n",
    "#     alram(al)\n",
    "    t = Thread(target=alram,args=(al,))\n",
    "    t.start()\n",
    "    \n",
    "\n",
    "    "
   ]
  },
  {
   "cell_type": "code",
   "execution_count": null,
   "id": "c95c3369",
   "metadata": {},
   "outputs": [],
   "source": [
    "#Threading run your program in the background, with threading we don't have to wait for the execution of the current code for the next one. we can directly jump into the next code by running the current code in the bakground using threading."
   ]
  },
  {
   "cell_type": "code",
   "execution_count": null,
   "id": "c93d468e",
   "metadata": {},
   "outputs": [],
   "source": [
    "t.join()  #join helps to execute the next thread after the first thread execution. With out it all the threads will be run at a time"
   ]
  },
  {
   "cell_type": "code",
   "execution_count": null,
   "id": "bc1b8a66",
   "metadata": {},
   "outputs": [],
   "source": []
  }
 ],
 "metadata": {
  "kernelspec": {
   "display_name": "Python 3 (ipykernel)",
   "language": "python",
   "name": "python3"
  },
  "language_info": {
   "codemirror_mode": {
    "name": "ipython",
    "version": 3
   },
   "file_extension": ".py",
   "mimetype": "text/x-python",
   "name": "python",
   "nbconvert_exporter": "python",
   "pygments_lexer": "ipython3",
   "version": "3.10.1"
  }
 },
 "nbformat": 4,
 "nbformat_minor": 5
}
