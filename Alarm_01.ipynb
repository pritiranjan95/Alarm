{
 "cells": [
  {
   "cell_type": "code",
   "execution_count": 3,
   "id": "15904696",
   "metadata": {},
   "outputs": [],
   "source": [
    "from datetime import datetime\n",
    "def alram(b):\n",
    "    print(\"time: \",b)\n",
    "#     print(a)\n",
    "    f = True\n",
    "    while f:\n",
    "        currenttime=datetime.now()\n",
    "        a=currenttime.strftime(\"%H:%M\")\n",
    "#         print(a)\n",
    "        if a==str(b):\n",
    "            print(\"alram blow\")\n",
    "            f = False\n",
    "    "
   ]
  },
  {
   "cell_type": "code",
   "execution_count": null,
   "id": "70afd695",
   "metadata": {},
   "outputs": [],
   "source": [
    "#Using while loop we can match the alram\n",
    "b=input(\"give your time HH:MM:-\\n\")\n",
    "c=True\n",
    "while c:\n",
    "    if alram(b):\n",
    "        print(\"alram blow\")\n",
    "        c=False"
   ]
  },
  {
   "cell_type": "code",
   "execution_count": 7,
   "id": "8946903f",
   "metadata": {},
   "outputs": [
    {
     "name": "stdout",
     "output_type": "stream",
     "text": [
      "give your time HH:MM:-\n",
      "15:01\n",
      "time: heyyyyyyyyyyyyyyyyyyyyy\n",
      " 15:01\n",
      "alram blow\n"
     ]
    }
   ],
   "source": [
    "from threading import Thread\n",
    "b=input(\"give your time HH:MM:-\\n\")\n",
    "thread = Thread(target=alram,args=(b,))\n",
    "thread.start()\n",
    "print(\"heyyyyyyyyyyyyyyyyyyyyy\")\n",
    "# thread.join()"
   ]
  },
  {
   "cell_type": "code",
   "execution_count": null,
   "id": "27e21bba",
   "metadata": {},
   "outputs": [],
   "source": [
    " "
   ]
  },
  {
   "cell_type": "code",
   "execution_count": null,
   "id": "e9d7a6cb",
   "metadata": {},
   "outputs": [],
   "source": []
  }
 ],
 "metadata": {
  "kernelspec": {
   "display_name": "Python 3 (ipykernel)",
   "language": "python",
   "name": "python3"
  },
  "language_info": {
   "codemirror_mode": {
    "name": "ipython",
    "version": 3
   },
   "file_extension": ".py",
   "mimetype": "text/x-python",
   "name": "python",
   "nbconvert_exporter": "python",
   "pygments_lexer": "ipython3",
   "version": "3.10.1"
  }
 },
 "nbformat": 4,
 "nbformat_minor": 5
}
